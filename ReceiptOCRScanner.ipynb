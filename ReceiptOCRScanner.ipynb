{
  "nbformat": 4,
  "nbformat_minor": 0,
  "metadata": {
    "colab": {
      "name": "ReceiptOCRScanner",
      "provenance": [],
      "collapsed_sections": [],
      "authorship_tag": "ABX9TyOKN5ubvcTY4Qg7srEoxOft",
      "include_colab_link": true
    },
    "kernelspec": {
      "name": "python3",
      "display_name": "Python 3"
    }
  },
  "cells": [
    {
      "cell_type": "markdown",
      "metadata": {
        "id": "view-in-github",
        "colab_type": "text"
      },
      "source": [
        "<a href=\"https://colab.research.google.com/github/yasusuzuki/ReceiptOCRScanner/blob/main/ReceiptOCRScanner.ipynb\" target=\"_parent\"><img src=\"https://colab.research.google.com/assets/colab-badge.svg\" alt=\"Open In Colab\"/></a>"
      ]
    },
    {
      "cell_type": "markdown",
      "metadata": {
        "id": "RE9q0ZO0Gbsq"
      },
      "source": [
        "### 環境セットアップ"
      ]
    },
    {
      "cell_type": "code",
      "metadata": {
        "id": "zi28yU7GA6qm"
      },
      "source": [
        "import platform\r\n",
        "print(\"python \" + platform.python_version())"
      ],
      "execution_count": null,
      "outputs": []
    },
    {
      "cell_type": "code",
      "metadata": {
        "id": "jlS3vd8WTDUF"
      },
      "source": [
        "!pip install --upgrade google-cloud-vision\r\n",
        "# iPhoneからアップロードした *.HEIC形式をPNGに変換するライブラリ\r\n",
        "!pip install pyheif\r\n",
        "\r\n"
      ],
      "execution_count": null,
      "outputs": []
    },
    {
      "cell_type": "markdown",
      "metadata": {
        "id": "MXDJ66IXBePa"
      },
      "source": [
        "### Google Driveをマウントする"
      ]
    },
    {
      "cell_type": "code",
      "metadata": {
        "id": "r7his-1PCovM"
      },
      "source": [
        "from google.colab import drive\r\n",
        "drive.mount('/content/gdrive')"
      ],
      "execution_count": null,
      "outputs": []
    },
    {
      "cell_type": "markdown",
      "metadata": {
        "id": "sS66Vxixw1JV"
      },
      "source": [
        "### 画像ファイルを読み込む"
      ]
    },
    {
      "cell_type": "code",
      "metadata": {
        "id": "MB7SQGCKm4MB"
      },
      "source": [
        "def heic_convert_to(heic_filename, output_filename,q=90):\r\n",
        "  import pyheif\r\n",
        "  from PIL import Image\r\n",
        "\r\n",
        "  heif = pyheif.read(heic_filename)\r\n",
        "\r\n",
        "  image = Image.frombytes(\r\n",
        "              heif.mode, \r\n",
        "              heif.size, \r\n",
        "              heif.data,\r\n",
        "              \"raw\",\r\n",
        "              heif.mode,\r\n",
        "              heif.stride,\r\n",
        "          )\r\n",
        "\r\n",
        "  image.save(output_filename,quality=q )"
      ],
      "execution_count": null,
      "outputs": []
    },
    {
      "cell_type": "code",
      "metadata": {
        "id": "7NrW3cSFC2J8"
      },
      "source": [
        "import glob\r\n",
        "import os\r\n",
        "import os.path\r\n",
        "\r\n",
        "src_files = glob.glob('/content/gdrive/My Drive/programming/vision_api/*.HEIC')\r\n",
        "src_files.sort()\r\n",
        "\r\n",
        "for f in src_files:\r\n",
        "    heic_convert_to(f, '/content/gdrive/My Drive/programming/vision_api/'+os.path.splitext(os.path.basename(f))[0] + '.png' )\r\n",
        "    print(f)"
      ],
      "execution_count": null,
      "outputs": []
    },
    {
      "cell_type": "code",
      "metadata": {
        "id": "s7Ip3pJDFpfD"
      },
      "source": [
        "import os\r\n",
        "import os.path\r\n",
        "import errno\r\n",
        "\r\n",
        "from googleapiclient import discovery\r\n",
        "from oauth2client.client import GoogleCredentials\r\n",
        "\r\n",
        "cred_path = '/content/gdrive/My Drive/programming/vision_api/credentials.json'\r\n",
        "\r\n",
        "if os.path.exists(cred_path) == False:\r\n",
        "  raise FileNotFoundError(errno.ENOENT, os.strerror(errno.ENOENT), cred_path)\r\n",
        "\r\n",
        "print(cred_path)\r\n",
        "os.environ[\"GOOGLE_APPLICATION_CREDENTIALS\"] = cred_path"
      ],
      "execution_count": null,
      "outputs": []
    },
    {
      "cell_type": "code",
      "metadata": {
        "id": "q5IHcK4kBBVg"
      },
      "source": [
        "import cv2\r\n",
        "import matplotlib.pyplot as plt\r\n",
        "%matplotlib inline\r\n",
        "import matplotlib\r\n",
        "# The name of the image file to annotate\r\n",
        "input_file = '/content/gdrive/My Drive/programming/vision_api/ファイル_000.jpeg'\r\n",
        "img = cv2.imread(input_file) # input_fileは画像のパス\r\n",
        "plt.figure(figsize=[10,10])\r\n",
        "plt.axis('off')\r\n",
        "plt.imshow(img[:,:,::-1])"
      ],
      "execution_count": null,
      "outputs": []
    },
    {
      "cell_type": "code",
      "metadata": {
        "id": "dBzAEYqVkIAO"
      },
      "source": [
        "def get_sorted_lines(response):\r\n",
        "    document = response.full_text_annotation\r\n",
        "    bounds = []\r\n",
        "    for page in document.pages:\r\n",
        "      for block in page.blocks:\r\n",
        "        for paragraph in block.paragraphs:\r\n",
        "          for word in paragraph.words:\r\n",
        "            for symbol in word.symbols:\r\n",
        "              x = symbol.bounding_box.vertices[0].x\r\n",
        "              y = symbol.bounding_box.vertices[0].y\r\n",
        "              text = symbol.text\r\n",
        "              bounds.append([x, y, text, symbol.bounding_box])\r\n",
        "    bounds.sort(key=lambda x: x[1])\r\n",
        "    old_y = -1\r\n",
        "    line = []\r\n",
        "    lines = []\r\n",
        "    threshold = 10\r\n",
        "    for bound in bounds:\r\n",
        "      x = bound[0]\r\n",
        "      y = bound[1]\r\n",
        "      if old_y == -1:\r\n",
        "        old_y = y\r\n",
        "      elif old_y-threshold <= y <= old_y+threshold:\r\n",
        "        old_y = y\r\n",
        "      else:\r\n",
        "        old_y = -1\r\n",
        "        line.sort(key=lambda x: x[0])\r\n",
        "        lines.append(line)\r\n",
        "        line = []\r\n",
        "      line.append(bound)\r\n",
        "    line.sort(key=lambda x: x[0])\r\n",
        "    lines.append(line)\r\n",
        "    return lines"
      ],
      "execution_count": null,
      "outputs": []
    },
    {
      "cell_type": "code",
      "metadata": {
        "id": "zzsoDmX_F7U-"
      },
      "source": [
        "import io\r\n",
        "from google.cloud import vision\r\n",
        "# Instantiates a client\r\n",
        "client = vision.ImageAnnotatorClient()\r\n",
        "\r\n",
        "\r\n",
        "\r\n",
        "# Loads the image into memory\r\n",
        "with io.open(input_file, 'rb') as image_file:\r\n",
        "    content = image_file.read()\r\n",
        "\r\n",
        "image = vision.Image(content=content)\r\n",
        "\r\n",
        "# Performs label detection on the image file\r\n",
        "#response = client.label_detection(image=image)\r\n",
        "#labels = response.label_annotations\r\n",
        "#print('Labels:')\r\n",
        "#for label in labels:\r\n",
        "#    print(label.description)\r\n",
        "\r\n",
        "# face_detection sample\r\n",
        "#response = client.face_detection(image=image, max_results=4)\r\n",
        "#faces = response.face_annotations\r\n",
        "#print('Found {} face{}'.format(len(faces), '' if len(faces) == 1 else 's'))\r\n",
        "\r\n",
        "response = client.document_text_detection(image=image)\r\n",
        "#print(vars(response))\r\n",
        "texts = response.text_annotations\r\n",
        "for text in texts:\r\n",
        "    print('\\n\"{}\"'.format(text.description))\r\n",
        "    vertices = (['({},{})'.format(vertex.x, vertex.y) for vertex in text.bounding_poly.vertices])\r\n",
        "    print('bounds: {}'.format(','.join(vertices)))\r\n",
        "\r\n",
        "\r\n",
        "#print(response.text_annotations[0].description)\r\n",
        "\r\n"
      ],
      "execution_count": null,
      "outputs": []
    },
    {
      "cell_type": "code",
      "metadata": {
        "id": "W2OsbxAokZTo"
      },
      "source": [
        "img = cv2.imread(input_file, cv2.IMREAD_COLOR)\r\n",
        "\r\n",
        "lines = get_sorted_lines(response)\r\n",
        "for line in lines:\r\n",
        "  texts = [i[2] for i in line]\r\n",
        "  texts = ''.join(texts)\r\n",
        "  bounds = [i[3] for i in line]\r\n",
        "  print(texts)\r\n",
        "  for bound in bounds:\r\n",
        "    p1 = (bounds[0].vertices[0].x, bounds[0].vertices[0].y)   # top left\r\n",
        "    p2 = (bounds[-1].vertices[1].x, bounds[-1].vertices[1].y) # top right\r\n",
        "    p3 = (bounds[-1].vertices[2].x, bounds[-1].vertices[2].y) # bottom right\r\n",
        "    p4 = (bounds[0].vertices[3].x, bounds[0].vertices[3].y)   # bottom left\r\n",
        "    cv2.line(img, p1, p2, (0, 255, 0), thickness=3, lineType=cv2.LINE_AA)\r\n",
        "    cv2.line(img, p2, p3, (0, 255, 0), thickness=3, lineType=cv2.LINE_AA)\r\n",
        "    cv2.line(img, p3, p4, (0, 255, 0), thickness=3, lineType=cv2.LINE_AA)\r\n",
        "    cv2.line(img, p4, p1, (0, 255, 0), thickness=3, lineType=cv2.LINE_AA)\r\n",
        "\r\n",
        "plt.figure(figsize=[10,10])\r\n",
        "plt.axis('off')\r\n",
        "plt.imshow(img[:,:,::-1]);plt.title(\"img_by_line\")"
      ],
      "execution_count": null,
      "outputs": []
    },
    {
      "cell_type": "markdown",
      "metadata": {
        "id": "X8a27kGPkppM"
      },
      "source": [
        "### テキスト抽出　－　正規表現などで特定の情報を抽出する"
      ]
    },
    {
      "cell_type": "code",
      "metadata": {
        "id": "IqNqDKbPknla"
      },
      "source": [
        "import re\r\n",
        "\r\n",
        "def get_matched_string(pattern, string):\r\n",
        "    prog = re.compile(pattern)\r\n",
        "    result = prog.search(string)\r\n",
        "    if result:\r\n",
        "        return result.group()\r\n",
        "    else:\r\n",
        "        return False\r\n",
        "\r\n",
        "pattern_dict = {}\r\n",
        "#pattern_dict['date'] = r'[12]\\d{3}[/\\-年](0?[1-9]|1[0-2])[/\\-月](0?[1-9]|[12][0-9]|3[01])日?'\r\n",
        "pattern_dict['date'] = r'[12]\\d{3}[/\\-年](0?[1-9]|1[0-2])[/\\-月](3[01]|[12][0-9]|0?[1-9])日?'\r\n",
        "pattern_dict['time'] = r'((0?|1)[0-9]|2[0-3])[:時][0-5][0-9]分?'\r\n",
        "pattern_dict['tel'] = '0\\d{1,3}-\\d{1,4}-\\d{4}'\r\n",
        "#pattern_dict['total_price'] = r'合計¥(0|[1-9]\\d*|[1-9]\\d{0,2}(,\\d{3})+)$'\r\n",
        "pattern_dict['total_price'] = r'現計¥(0|[1-9]\\d*|[1-9]\\d{0,2}(,\\d{3})+)$'\r\n",
        "pattern_dict['item'] = r'\\w+¥[0-9]+$' #どうも円記号はふつうのバックスラッシュではない。\r\n",
        "\r\n",
        "\r\n",
        "items = []\r\n",
        "for line in lines:\r\n",
        "  texts = [i[2] for i in line]\r\n",
        "  texts = ''.join(texts)\r\n",
        "  #print(texts)\r\n",
        "  for key, pattern in pattern_dict.items():\r\n",
        "    matched_string = get_matched_string(pattern, texts)\r\n",
        "    if matched_string:\r\n",
        "      if key == 'time' and '営業時間' in texts :\r\n",
        "        continue\r\n",
        "      if key == 'item':\r\n",
        "        items.append(matched_string)\r\n",
        "      elif key == 'tel':\r\n",
        "        tel = matched_string\r\n",
        "      elif key == 'total_price':\r\n",
        "        total_price = matched_string\r\n",
        "      elif key == 'date':\r\n",
        "        date = matched_string\r\n",
        "      elif key == 'time':\r\n",
        "        time = matched_string\r\n",
        "      else:\r\n",
        "        print(type(matched_string))\r\n",
        "        print(key, matched_string)\r\n",
        "\r\n",
        "# tel 03-1234-5678\r\n",
        "# date 2019年10月01日\r\n",
        "# time 08:45\r\n",
        "# total_price 合計¥1,161"
      ],
      "execution_count": null,
      "outputs": []
    }
  ]
}